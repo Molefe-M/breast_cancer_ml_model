{
 "cells": [
  {
   "cell_type": "code",
   "execution_count": 1,
   "metadata": {},
   "outputs": [
    {
     "name": "stdout",
     "output_type": "stream",
     "text": [
      "training set loaded successfully: (569, 32)\n",
      "Training set split into features: (569, 31) and labels(569,)\n",
      "Scaler saved to the path: model_artifacts\\\n",
      "Scaler loaded from path: model_artifacts\\ and applied to the dataset: (569, 10)\n",
      "Dataset converted to numpy array with train_feat: (455, 10),              train_target: (455,), test_feat: (114, 10) and test_target: (114,)\n",
      "Model trained and saved to path: model_artifacts\\\n",
      "Model loaded from path: model_artifacts\\ and tested using: (114, 10)\n",
      "Precision: 0.97\n",
      "Recall: 0.97\n",
      "F1-score: 0.97\n"
     ]
    }
   ],
   "source": [
    "# local imports\n",
    "from src.constants import opt_hidden_layer_size, opt_feature, model_name\n",
    "from src.train import trainModel\n",
    "\n",
    "# Third part import\n",
    "import os\n",
    "\n",
    "# Define training set path and name\n",
    "data_path = \"train_dataset\\\\\"\n",
    "file_name_data = \"breast_cancer.csv\"\n",
    "\n",
    "# create path to save the trained model\n",
    "model_path = \"model_artifacts\\\\\"\n",
    "if not os.path.exists(model_path):\n",
    "    os.makedirs(model_path)\n",
    "\n",
    "if __name__ == '__main__':\n",
    "    train_mlp = trainModel(data_path, file_name_data, model_path, model_name, opt_feature, opt_hidden_layer_size)\n",
    "    train_mlp.execute()"
   ]
  },
  {
   "cell_type": "code",
   "execution_count": 1,
   "metadata": {},
   "outputs": [
    {
     "name": "stdout",
     "output_type": "stream",
     "text": [
      "Scaler loaded from path: src\\model_artifacts\\0.0.1\\ and applied to the dataset: (9, 10)\n"
     ]
    }
   ],
   "source": [
    "# Define training set path and name\n",
    "\n",
    "import pandas as pd\n",
    "data_path = \"src\\\\tests\\\\test_data\\\\\"\n",
    "file_name_data = \"test_input_dataframe.csv\"\n",
    "\n",
    "df_input = pd.read_csv(data_path+file_name_data, index_col=False)\n",
    "from src.score import ModelScoring\n",
    "\n",
    "df_pred = ModelScoring(df_input).execute() \n"
   ]
  },
  {
   "cell_type": "code",
   "execution_count": null,
   "metadata": {},
   "outputs": [],
   "source": []
  }
 ],
 "metadata": {
  "kernelspec": {
   "display_name": "ds_projects_sklearn",
   "language": "python",
   "name": "python3"
  },
  "language_info": {
   "codemirror_mode": {
    "name": "ipython",
    "version": 3
   },
   "file_extension": ".py",
   "mimetype": "text/x-python",
   "name": "python",
   "nbconvert_exporter": "python",
   "pygments_lexer": "ipython3",
   "version": "3.10.16"
  }
 },
 "nbformat": 4,
 "nbformat_minor": 2
}
